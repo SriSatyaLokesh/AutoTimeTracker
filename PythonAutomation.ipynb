{
 "cells": [
  {
   "cell_type": "markdown",
   "metadata": {},
   "source": [
    "# AutomatedTimeTracker using Python\n",
    "## Goal :\n",
    "   #### Automate tracking system which will find out the time spent on each application or a project\n",
    "### Sub Goals :\n",
    "   ##### Differentiate between projects (even time sepent on differennt projects with in same app)\n",
    "   ##### Differentiate between time spent on sites while browsing\n",
    "#### Things to be done\n",
    "- [ ] Need to monitor the activity\n",
    "   - [ ] need to monitor which app is being used\n",
    "   - [ ] need to monitor which website is being used\n",
    "- [ ] Start timer when user opens an app or a website\n",
    "- [ ] Save Data to JSON file\n",
    "- [ ] Need to run in the background"
   ]
  },
  {
   "cell_type": "code",
   "execution_count": null,
   "metadata": {},
   "outputs": [],
   "source": []
  }
 ],
 "metadata": {
  "kernelspec": {
   "display_name": "Python 3",
   "language": "python",
   "name": "python3"
  },
  "language_info": {
   "codemirror_mode": {
    "name": "ipython",
    "version": 3
   },
   "file_extension": ".py",
   "mimetype": "text/x-python",
   "name": "python",
   "nbconvert_exporter": "python",
   "pygments_lexer": "ipython3",
   "version": "3.6.8"
  }
 },
 "nbformat": 4,
 "nbformat_minor": 2
}
